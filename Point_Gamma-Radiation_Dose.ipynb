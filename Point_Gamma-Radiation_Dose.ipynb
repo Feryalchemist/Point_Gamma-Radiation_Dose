{
  "nbformat": 4,
  "nbformat_minor": 0,
  "metadata": {
    "colab": {
      "name": "Blogpost_Radiation_Dose.ipynb",
      "provenance": [],
      "collapsed_sections": [
        "uRnYywxBeLWd",
        "Fik1VCqnQhdF"
      ],
      "authorship_tag": "ABX9TyMze7CyzwlNHNgathsjmtHM",
      "include_colab_link": true
    },
    "kernelspec": {
      "name": "python3",
      "display_name": "Python 3"
    },
    "language_info": {
      "name": "python"
    }
  },
  "cells": [
    {
      "cell_type": "markdown",
      "metadata": {
        "id": "view-in-github",
        "colab_type": "text"
      },
      "source": [
        "<a href=\"https://colab.research.google.com/github/Feryalchemist/Point_Gamma-Radiation_Dose/blob/main/Point_Gamma-Radiation_Dose.ipynb\" target=\"_parent\"><img src=\"https://colab.research.google.com/assets/colab-badge.svg\" alt=\"Open In Colab\"/></a>"
      ]
    },
    {
      "cell_type": "markdown",
      "metadata": {
        "id": "-eR2qMytV1--"
      },
      "source": [
        "#**$\\gamma$ External Radiation Dose**\n",
        "\n",
        "This article will explain about a method to calculate the radiation dose that exposed through a source outside human body.  This article is focused on the gamma radiation since it has discrete energy and is not affected by coulomb force (don't worry about Bragg peak, moreover Bethe-Bloch formula). Although so, this calculation still an over simplified approach. So, to calculate accurately the particle simulation is more prefered.\n",
        "\n",
        "Hereby, I'll show the script.\n",
        "\n",
        "##**1. Packages**\n",
        "\n",
        "**First**, we need to import several packages such as numpy and pandas, also, the table of photon cross section for the shielding. The table can be obtained using [this URL](https://physics.nist.gov/PhysRefData/Xcom/html/xcom1.html) provided by NIST XCOM. **The table is in .xlsx format with each sheet correspond to different material cross section table.**\n",
        "\n",
        "Here, I provide the formatted table for various materials that I got from NIST table as an example. The materials are; H$_2$O, Al, Pb, Air (0.8 N$_2$, 0.2 O$_2$ w/o), Acrylic/Lucite/Plexiglas (C$_5$O$_2$H$_8$), NaI(Tl), ZnS(Ag), Steel (0.105 Cr, 0.012 C, Fe w/o) and element consist in Concrete. All the units are in **cm$^2$/g** and Energy in **MeV**."
      ]
    },
    {
      "cell_type": "code",
      "metadata": {
        "id": "10p20shKVxUa"
      },
      "source": [
        "import math\n",
        "import pandas as pd\n",
        "import numpy as np\n",
        "from pandas import ExcelWriter\n",
        "from pandas import ExcelFile"
      ],
      "execution_count": null,
      "outputs": []
    },
    {
      "cell_type": "code",
      "metadata": {
        "colab": {
          "resources": {
            "http://localhost:8080/nbextensions/google.colab/files.js": {
              "data": "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",
              "ok": true,
              "headers": [
                [
                  "content-type",
                  "application/javascript"
                ]
              ],
              "status": 200,
              "status_text": "OK"
            }
          },
          "base_uri": "https://localhost:8080/",
          "height": 196
        },
        "id": "PU-JxvKvUi0o",
        "outputId": "eb11c558-3350-4479-996e-12af09fd712e"
      },
      "source": [
        "from google.colab import files\n",
        "uploaded = files.upload()\n",
        "tab_name = list(uploaded.items())[0][-1]\n",
        "mat_list = pd.ExcelFile(tab_name).sheet_names\n",
        "\n",
        "print(\"\\n Upload dat.BuildUp_Factor table data = \\n\")\n",
        "uploaded = files.upload()\n",
        "\n",
        "print(\"\\n Upload dat.Emission_Data gamma emission table data = \\n\")\n",
        "uploaded = files.upload()\n",
        "\n",
        "print(\"\\n\\n------------------------------\\nYour Available Material is = \\n\")\n",
        "print(*mat_list, sep=' ') "
      ],
      "execution_count": null,
      "outputs": [
        {
          "output_type": "display_data",
          "data": {
            "text/html": [
              "\n",
              "     <input type=\"file\" id=\"files-0db7510f-a00f-4742-8ab4-6d354aef8b83\" name=\"files[]\" multiple disabled\n",
              "        style=\"border:none\" />\n",
              "     <output id=\"result-0db7510f-a00f-4742-8ab4-6d354aef8b83\">\n",
              "      Upload widget is only available when the cell has been executed in the\n",
              "      current browser session. Please rerun this cell to enable.\n",
              "      </output>\n",
              "      <script src=\"/nbextensions/google.colab/files.js\"></script> "
            ],
            "text/plain": [
              "<IPython.core.display.HTML object>"
            ]
          },
          "metadata": {}
        },
        {
          "output_type": "stream",
          "name": "stdout",
          "text": [
            "Saving CS_Table.xlsx to CS_Table.xlsx\n",
            "\n",
            "\n",
            "------------------------------\n",
            "Your Available Material is = \n",
            "\n",
            "Water Lucite NaI(Tl) ZnS(Ag) Steel Air Al Pb H C O Na Mg Si K Ca Fe N Zn S Ag Cr I Tl Be\n"
          ]
        }
      ]
    },
    {
      "cell_type": "markdown",
      "metadata": {
        "id": "uRnYywxBeLWd"
      },
      "source": [
        "##**2. Function**\n",
        "\n",
        "Before we begin the calculation, we need to define the function to help our problem. In this second step, I will define several important fuction."
      ]
    },
    {
      "cell_type": "markdown",
      "metadata": {
        "id": "J4IIy9QJf6RH"
      },
      "source": [
        "###**Linear Interpolation**\n",
        "The interpolation will help us to find the value that unwritten in the table. In simple way, we can utilize linear interpolation to calculate value between two value written in the table.\n",
        "\n",
        "$y = f(x)$\n",
        "\n",
        "$y = \\dfrac{(x-x_1)(y_2-y_1)}{(x_2-x_1)} + y_1$\n"
      ]
    },
    {
      "cell_type": "code",
      "metadata": {
        "id": "fHaML5U_fm4v"
      },
      "source": [
        "def Interpolation(x1,y1,x2,y2,x):\n",
        "  y=(x-x1)*(y2-y1)/(x2-x1)+y1\n",
        "  return y"
      ],
      "execution_count": null,
      "outputs": []
    },
    {
      "cell_type": "markdown",
      "metadata": {
        "id": "XEoxHln2mu9r"
      },
      "source": [
        "###**Gamma Property**\n",
        "\n",
        "There are some important parameter of radionuclide source, in which determine the radiation dose. Some radionuclide may emits multiple energy with varied emmision probability. This function will extract multiple gamma energy of a determined radionuclide in the **Emission_Data** table file. The data can be obtained from [here](https://www-pub.iaea.org/MTCD/Publications/PDF/Pub1287_Vol1_web.pdf).\n",
        "\n",
        "where the properties includes:\n",
        "\n",
        "\n",
        "1.   $f_i$ = energy probability\n",
        "2.   $E_i$ = emitted energy in [keV]\n",
        "\n",
        "\n",
        "You can add more if needed, just follow the data pattern.\n"
      ]
    },
    {
      "cell_type": "code",
      "metadata": {
        "id": "V3-BHMM-or2o"
      },
      "source": [
        "Gammadf = pd.read_csv('./dat.Emission_Data',header=[0],delimiter='\\t')\n",
        "\n",
        "def Gamma_property(Nuclide,Gammadf):\n",
        "  E=[]; f=[]\n",
        "  stdev_E=[]; stdev_f=[]\n",
        "  for i in range(0,len(Gammadf)):\n",
        "    if Gammadf['Nuclide'].iloc[i]==Nuclide:\n",
        "\t    E.append(Gammadf['E'].iloc[i])\n",
        "\t    stdev_E.append(Gammadf['stdev-E'].iloc[i])\n",
        "\t    f.append(Gammadf['f'].iloc[i])\n",
        "\t    stdev_f.append(Gammadf['stdev-f'].iloc[i])\n",
        "     #Energy in keV\n",
        "  return (np.array(E),np.array(f),np.array(stdev_E),np.array(stdev_f))"
      ],
      "execution_count": null,
      "outputs": []
    },
    {
      "cell_type": "markdown",
      "metadata": {
        "id": "mdVflnXso7MG"
      },
      "source": [
        "###**Attenuation Coefficient**\n",
        "\n",
        "Attenuation coefficient is a coefficient that determine the reduction of radiation intensity when it pass through certain thickness of medium. Attenuation coefficient is based on the radiation energy. The intensity of radiation with initial intensity $I_0$ that pass through n-type of medium with n-different thickness ($\\Delta x$) is:\n",
        "\n",
        "###$I = I_0 e^{-\\sum^n_{i=1}{\\left(\\mu_i\\Delta x_i\\right)}}$\n",
        "\n",
        "The unit we used from XCOM is already normalized to mass, thus, the equation for attenuation coefficient for a compound medium with n-component will be:\n",
        "\n",
        "###$\\mu(E_e)_{_{[cm^{-1}]}}=\\sum^n_{i=1}{\\sigma_{i,tot}(E_e)_{_{[cm^{2}/g]}}\\rho_{tot}}_{_{[g/cm^{3}]}}\\small{\\dfrac{M_i}{\\sum^n_{i=1}{M_i}}}$\n",
        "\n",
        "where $\\rho_{tot}$ is the compound medium density, $M_{i}$ is the component-i atomic mass in unit of $_{g/mole}$. The value for each energy should be calculated separately.\n",
        "\n",
        "\n",
        "\n",
        "\n",
        "\n"
      ]
    },
    {
      "cell_type": "code",
      "metadata": {
        "id": "vOZtWPkiuQJH"
      },
      "source": [
        "def Attenuation_coeff(E,M,Density,tab_name,CS = 'Tot. w/ Coherent'):\n",
        "  Energy,Fraction = E\n",
        "  Medium,Ratio    = M\n",
        "  mu=np.zeros((len(Energy),len(Medium)))\n",
        "  for m in range(0,len(Medium)):\n",
        "    Data = pd.read_excel(tab_name,sheet_name = Medium[m],header=[0])\n",
        "    print(' ----------------------------------------------------- ')\n",
        "    for n in range(0,len(Energy)):\n",
        "      i=0\n",
        "      while Energy[n]-Data['Photon Energy'].iloc[i]>0:\n",
        "        i+=1\n",
        "      mu[n,m]=(Interpolation(Data['Photon Energy'].iloc[i-1],Data[CS].iloc[i-1],\n",
        "                             Data['Photon Energy'].iloc[i],Data[CS].iloc[i],Energy[n]))\n",
        "      print('mu = '+'{:.3e}'.format(mu[n,m])+\n",
        "            '\\tcoeff E = '+'{:.3e}'.format(Energy[n])+' // '+'{:.3e}'.format(Fraction[n]*100)+'%'+\n",
        "            '\\tMedium  = '+Medium[m]+' // '+'{:.3e}'.format(Ratio[m]*100)+'%')\n",
        "  M_grid,E_grid=np.meshgrid(Ratio*Density,Fraction)\n",
        "  total_attenuation=np.sum(M_grid*mu,axis=1)\n",
        "  \n",
        "  return (total_attenuation)"
      ],
      "execution_count": null,
      "outputs": []
    },
    {
      "cell_type": "markdown",
      "metadata": {
        "id": "ZolLSbX_hWr7"
      },
      "source": [
        "###**Buildup factor**\n",
        "\n",
        "Build up factor is factor that determine the multiplication of radiation dose because of refocused ray after scattered by a shielding material. The value determined by the attenuation factor, thus it also related to radiation energy.\n",
        "\n",
        "Build Up Factor obtained from **'Appendix E'** of this [reference](https://doi.org/10.1201/9781003009849) and evaluated with equation of:\n",
        "###**$B=1+a \\left(\\dfrac{\\mu}{\\rho_{tot}}\\right) r e^{b \\left(\\dfrac{\\mu}{\\rho_{tot}}\\right) r}$**\n",
        "\n",
        "where :\n",
        "\n",
        "*   $a$ and $b$ = energy and cosine related  factor\n",
        "*   $\\mu$       = attenuation coefficient\n",
        "*   $r$         = shielding thickness\n",
        "\n",
        "Program will search $a$ and $b$ by checking the table energy value (in MeV).\n",
        "\n",
        "```\n",
        "Available shielding material = Concrete Air Water Fe Pb\n",
        "```\n"
      ]
    },
    {
      "cell_type": "code",
      "metadata": {
        "id": "nWcDoO_4ku-p"
      },
      "source": [
        "Appendix_E = pd.read_csv('./dat.BuildUp_Factor',header=[0],delimiter='\\t')\n",
        "\n",
        "def buildup(Material,E,mu,r,rho,Appendix_E):\n",
        "  i=0\n",
        "  while E-Appendix_E['E'].iloc[i]>0:\n",
        "    i+=1\n",
        "  a=Interpolation(Appendix_E['E'].iloc[i-1],Appendix_E[Material+'-a'].iloc[i-1],\n",
        "                  Appendix_E['E'].iloc[i],Appendix_E[Material+'-a'].iloc[i],E)\n",
        "  b=Interpolation(Appendix_E['E'].iloc[i-1],Appendix_E[Material+'-b'].iloc[i-1],\n",
        "                  Appendix_E['E'].iloc[i],Appendix_E[Material+'-b'].iloc[i],E)\n",
        "  B=1+a*(mu/rho)*r*math.exp(b*(mu/rho)*r)\n",
        "  print('a = '+'{:.5e}'.format(a))\n",
        "  print('b = '+'{:.5e}'.format(b))\n",
        "  print('B = '+'{:.5e}'.format(B))\n",
        "  return B"
      ],
      "execution_count": null,
      "outputs": []
    },
    {
      "cell_type": "markdown",
      "metadata": {
        "id": "YGYLqiNpIaGT"
      },
      "source": [
        "##**3. Calculation**\n",
        "\n",
        "Now, lets move to the calculation. The gamma source strength with distance 1 m from isotropic point source is calculated by this equation :\n",
        "\n",
        "###$\\Gamma \\left[\\frac{J/kg.m^2}{MBq.h}\\right](E)=\\frac{f(\\frac{photons}{d})E(\\frac{MeV}{photon})1.6e-13(\\frac{J}{MeV})1e6(\\frac{d/s}{MBq})3.6e3(\\frac{s}{h})\\mu (\\frac{1}{cm})}{4\\pi \\rho(\\frac{g}{cm^3})}$\n",
        "\n",
        "$J/kg$ can be replaced by gray, since they have same meaning which is \"The amount of radiation energy absorbed per kilogram of medium\". Therefore, **attenuation coefficient in this equation is for the medium**.\n",
        "\n",
        "\n",
        "If the nuclide emits multiple radiation energy, then the calculation for each energy must be done separately and summed afterward as such:\n",
        "\n",
        "$\\sum_{e=1}^{n}{\\Gamma_{tot}} = \\Gamma_1+\\Gamma_2+...+\\Gamma_n$\n"
      ]
    },
    {
      "cell_type": "markdown",
      "metadata": {
        "id": "sCzX2O6cLG0B"
      },
      "source": [
        "###**Absorbed Dose Calculation ($\\dot{D}$)**\n",
        "\n",
        "The calculation breaks into 4 part which are:\n",
        "\n",
        "1.   User Input   \n",
        "2.   Get the Attenuation coefficient and Radiation Property\n",
        "3.   Calculate Dose Rate after travel\n",
        "4.   Calculate Dose Rate shielded\n",
        "\n",
        "In this example we wanted to calculate the absorbed radiation dose emitted from Mo$^{99}$ that passed through water pool and shielded by Aluminum and Concrete (The composition obtained [here](https://geant4-userdoc.web.cern.ch/UsersGuides/ForApplicationDeveloper/html/Appendix/materialNames.html) provided by GEANT4 documentation). The target stand 1 cm above the pool.\n",
        "\n",
        "Here is the complete illustration of our problem:\n",
        "\n",
        "(*)<------ 30 cm Water ------>||[<------ 1 cm Al ------->]||[<------- 5 cm Concrete ----->]||<------ 1 cm Water ------>     (┛ಠ_ಠ)┛彡┻━┻\n"
      ]
    },
    {
      "cell_type": "markdown",
      "source": [
        "####**--Problem and User Input**\n",
        "\n",
        "Here user can input the radiation source, Travelling Medium and Shielding. The medium is the first material in contact with the radiation, which in our case is Water. The rests is considered as shielding (even it it is the same material as medium). In this example case, User should input Water as medium, and Al, Concrete, Water as Shielding."
      ],
      "metadata": {
        "id": "nrPFcNypc3EK"
      }
    },
    {
      "cell_type": "markdown",
      "source": [
        "**$_{Separate\\ the\\ multiple\\ input\\ by\\ 'space'}$**\n",
        "\n",
        "**$_{Fraction\\ means\\ atomic\\ fraction}$**\n",
        "\n",
        "**$_{Fraction\\ not\\ equal\\ to\\ 1\\ will\\ be\\ normalized'}$**\n",
        "\n",
        "Element in Concrete:\n",
        "\n",
        "\n",
        "H C O Na Mg Al Si K Ca Fe\n",
        "\n",
        "\n",
        "0.01 0.001 0.529107 0.016 0.002 0.033872 0.337021 0.013 0.044 0.014"
      ],
      "metadata": {
        "id": "Vhav_G9eraIT"
      }
    },
    {
      "cell_type": "code",
      "metadata": {
        "colab": {
          "base_uri": "https://localhost:8080/"
        },
        "id": "Vag3y-pIQmZE",
        "outputId": "91bce23f-3ece-473a-9fd2-f12d1c62f4ef"
      },
      "source": [
        "# Input Source Nuclide\n",
        "Source   = input('Radiation Source is [format = Cs137] = ')\n",
        "\n",
        "# Input Medium with its Composition\n",
        "Medium   = input('\\n|--------Radiation Medium consists of = ')\n",
        "Med_fr   = input('\\n|-----------------------with Fraction = ')\n",
        "Med_dx   = float(input('\\n|---with distance to shield or target = '))\n",
        "Med_den  = float(input('\\n|------------------------with density = '))\n",
        "Med_fr   = np.array([float(x) for x in Med_fr.split(' ')])\n",
        "\n",
        "# Input The Shieldings and their Composition\n",
        "Shield = []\n",
        "\n",
        "finish = False\n",
        "print(\"\\n ---Type 'Stop' to Finish input & 'Continue' to Continue--- \")\n",
        "while finish==False:\n",
        "  Test = input('\\n ---> ')\n",
        "  if Test == 'Continue':\n",
        "    S = {}\n",
        "    S['Comp']      = input('\\n Shielding '+str(len(Shield)+1)+' consists of = ').split(' ')\n",
        "    S['Frac']      = input('\\n |---------with Fraction = ').split(' ')\n",
        "    S['thickness'] = float(input('\\n |--------with Thickness = '))\n",
        "    S['density']   = float(input('\\n |----------with Density = '))\n",
        "    S['Frac']      = np.array([float(x) for x in S['Frac']])/np.sum([float(x) for x in S['Frac']])\n",
        "    Shield+= [S]\n",
        "  else:\n",
        "    finish=True"
      ],
      "execution_count": null,
      "outputs": [
        {
          "name": "stdout",
          "output_type": "stream",
          "text": [
            "Radiation Source is [format = Cs137] = Mo99\n",
            "\n",
            "|--------Radiation Medium consists of = Water\n",
            "\n",
            "|-----------------------with Fraction = 1\n",
            "\n",
            "|---with distance to shield or target = 30\n",
            "\n",
            "|------------------------with density = 0.997\n",
            "\n",
            " ---Type 'Stop' to Finish input & 'Continue' to Continue--- \n",
            "\n",
            " ---> Continue\n",
            "\n",
            " Shielding 1 consists of = Al\n",
            "\n",
            " |---------with Fraction = 1\n",
            "\n",
            " |--------with Thickness = 1\n",
            "\n",
            " |----------with Density = 2.7\n",
            "\n",
            " ---> Continue\n",
            "\n",
            " Shielding 2 consists of = H C O Na Mg Al Si K Ca Fe\n",
            "\n",
            " |---------with Fraction = 0.01 0.001 0.529107 0.016 0.002 0.033872 0.337021 0.013 0.044 0.014\n",
            "\n",
            " |--------with Thickness = 5\n",
            "\n",
            " |----------with Density = 1.8\n",
            "\n",
            " ---> Continue\n",
            "\n",
            " Shielding 3 consists of = Water\n",
            "\n",
            " |---------with Fraction = 1\n",
            "\n",
            " |--------with Thickness = 1\n",
            "\n",
            " |----------with Density = 0.997\n",
            "\n",
            " ---> Stop\n"
          ]
        }
      ]
    },
    {
      "cell_type": "markdown",
      "metadata": {
        "id": "69yvBXwbRyTh"
      },
      "source": [
        "#### **--Read Table of Attenuation, BuildUP, and Gamma Emission**\n",
        "\n",
        "Here we utilize all the table reader function from section 2."
      ]
    },
    {
      "cell_type": "code",
      "metadata": {
        "colab": {
          "base_uri": "https://localhost:8080/"
        },
        "id": "D-Tynct8Skt3",
        "outputId": "9b689094-74aa-48f3-b4f8-b89f96d553eb"
      },
      "source": [
        "# Get the Gamma Emission of Source\n",
        "E,f,stdev_E,stdev_f = Gamma_property(Source,Gammadf)\n",
        "\n",
        "# Get the BuildUp Fraction\n",
        "build_up   = np.zeros(len(E))\n",
        "mu_med     = Attenuation_coeff([E/1000,f],[[Medium],Med_fr],Med_den,tab_name)\n",
        "for i in range(0,len(E)):\n",
        "  print('\\nBuildUp Equation Coefficient for energy','{:.3e}'.format(E[i]),'keV')\n",
        "  build_up[i]= buildup(Medium,E[i]/1000,mu_med[i],Med_dx,Med_den,Appendix_E)\n",
        "\n",
        "# Get the Attenuation Coefficient for each Shielding\n",
        "print('\\nAttenuation Coefficient for Each Compound and Energy = ')\n",
        "mu_shield = []\n",
        "for shield in Shield:\n",
        "  mu_shield += [Attenuation_coeff([E/1000,f],[shield['Comp'],shield['Frac']],shield['density'],tab_name)]"
      ],
      "execution_count": null,
      "outputs": [
        {
          "output_type": "stream",
          "name": "stdout",
          "text": [
            " ----------------------------------------------------- \n",
            "mu = 2.659e-01\tcoeff E = 4.058e-02 // 1.022e+00%\tMedium  = Water // 1.000e+02%\n",
            "mu = 1.543e-01\tcoeff E = 1.405e-01 // 8.960e+01%\tMedium  = Water // 1.000e+02%\n",
            "mu = 1.421e-01\tcoeff E = 1.811e-01 // 6.010e+00%\tMedium  = Water // 1.000e+02%\n",
            "mu = 1.103e-01\tcoeff E = 3.664e-01 // 1.194e+00%\tMedium  = Water // 1.000e+02%\n",
            "mu = 8.196e-02\tcoeff E = 7.395e-01 // 1.212e+01%\tMedium  = Water // 1.000e+02%\n",
            "mu = 7.986e-02\tcoeff E = 7.779e-01 // 4.280e+00%\tMedium  = Water // 1.000e+02%\n",
            "\n",
            "BuildUp Equation Coefficient for energy 4.058e+01 keV\n",
            "a = 2.68381e+00\n",
            "b = 2.59247e-02\n",
            "B = 2.72302e+01\n",
            "\n",
            "BuildUp Equation Coefficient for energy 1.405e+02 keV\n",
            "a = 5.11343e+00\n",
            "b = 1.24051e-01\n",
            "B = 4.28486e+01\n",
            "\n",
            "BuildUp Equation Coefficient for energy 1.811e+02 keV\n",
            "a = 4.41359e+00\n",
            "b = 1.20647e-01\n",
            "B = 3.23270e+01\n",
            "\n",
            "BuildUp Equation Coefficient for energy 3.664e+02 keV\n",
            "a = 2.84125e+00\n",
            "b = 8.53726e-02\n",
            "B = 1.34225e+01\n",
            "\n",
            "BuildUp Equation Coefficient for energy 7.395e+02 keV\n",
            "a = 1.83982e+00\n",
            "b = 4.92350e-02\n",
            "B = 6.08857e+00\n",
            "\n",
            "BuildUp Equation Coefficient for energy 7.779e+02 keV\n",
            "a = 1.77643e+00\n",
            "b = 4.65455e-02\n",
            "B = 5.74240e+00\n",
            "\n",
            "Attenuation Coefficient for Each Compound and Energy = \n",
            " ----------------------------------------------------- \n",
            "mu = 5.567e-01\tcoeff E = 4.058e-02 // 1.022e+00%\tMedium  = Al // 1.000e+02%\n",
            "mu = 1.440e-01\tcoeff E = 1.405e-01 // 8.960e+01%\tMedium  = Al // 1.000e+02%\n",
            "mu = 1.282e-01\tcoeff E = 1.811e-01 // 6.010e+00%\tMedium  = Al // 1.000e+02%\n",
            "mu = 9.660e-02\tcoeff E = 3.664e-01 // 1.194e+00%\tMedium  = Al // 1.000e+02%\n",
            "mu = 7.132e-02\tcoeff E = 7.395e-01 // 1.212e+01%\tMedium  = Al // 1.000e+02%\n",
            "mu = 6.947e-02\tcoeff E = 7.779e-01 // 4.280e+00%\tMedium  = Al // 1.000e+02%\n",
            " ----------------------------------------------------- \n",
            "mu = 3.452e-01\tcoeff E = 4.058e-02 // 1.022e+00%\tMedium  = H // 1.000e+00%\n",
            "mu = 2.707e-01\tcoeff E = 1.405e-01 // 8.960e+01%\tMedium  = H // 1.000e+00%\n",
            "mu = 2.513e-01\tcoeff E = 1.811e-01 // 6.010e+00%\tMedium  = H // 1.000e+00%\n",
            "mu = 1.967e-01\tcoeff E = 3.664e-01 // 1.194e+00%\tMedium  = H // 1.000e+00%\n",
            "mu = 1.464e-01\tcoeff E = 7.395e-01 // 1.212e+01%\tMedium  = H // 1.000e+00%\n",
            "mu = 1.426e-01\tcoeff E = 7.779e-01 // 4.280e+00%\tMedium  = H // 1.000e+00%\n",
            " ----------------------------------------------------- \n",
            "mu = 2.064e-01\tcoeff E = 4.058e-02 // 1.022e+00%\tMedium  = C // 1.000e-01%\n",
            "mu = 1.379e-01\tcoeff E = 1.405e-01 // 8.960e+01%\tMedium  = C // 1.000e-01%\n",
            "mu = 1.274e-01\tcoeff E = 1.811e-01 // 6.010e+00%\tMedium  = C // 1.000e-01%\n",
            "mu = 9.921e-02\tcoeff E = 3.664e-01 // 1.194e+00%\tMedium  = C // 1.000e-01%\n",
            "mu = 7.373e-02\tcoeff E = 7.395e-01 // 1.212e+01%\tMedium  = C // 1.000e-01%\n",
            "mu = 7.184e-02\tcoeff E = 7.779e-01 // 4.280e+00%\tMedium  = C // 1.000e-01%\n",
            " ----------------------------------------------------- \n",
            "mu = 2.559e-01\tcoeff E = 4.058e-02 // 1.022e+00%\tMedium  = O // 5.291e+01%\n",
            "mu = 1.397e-01\tcoeff E = 1.405e-01 // 8.960e+01%\tMedium  = O // 5.291e+01%\n",
            "mu = 1.284e-01\tcoeff E = 1.811e-01 // 6.010e+00%\tMedium  = O // 5.291e+01%\n",
            "mu = 9.947e-02\tcoeff E = 3.664e-01 // 1.194e+00%\tMedium  = O // 5.291e+01%\n",
            "mu = 7.384e-02\tcoeff E = 7.395e-01 // 1.212e+01%\tMedium  = O // 5.291e+01%\n",
            "mu = 7.196e-02\tcoeff E = 7.779e-01 // 4.280e+00%\tMedium  = O // 5.291e+01%\n",
            " ----------------------------------------------------- \n",
            "mu = 3.901e-01\tcoeff E = 4.058e-02 // 1.022e+00%\tMedium  = Na // 1.600e+00%\n",
            "mu = 1.382e-01\tcoeff E = 1.405e-01 // 8.960e+01%\tMedium  = Na // 1.600e+00%\n",
            "mu = 1.250e-01\tcoeff E = 1.811e-01 // 6.010e+00%\tMedium  = Na // 1.600e+00%\n",
            "mu = 9.557e-02\tcoeff E = 3.664e-01 // 1.194e+00%\tMedium  = Na // 1.600e+00%\n",
            "mu = 7.075e-02\tcoeff E = 7.395e-01 // 1.212e+01%\tMedium  = Na // 1.600e+00%\n",
            "mu = 6.893e-02\tcoeff E = 7.779e-01 // 4.280e+00%\tMedium  = Na // 1.600e+00%\n",
            " ----------------------------------------------------- \n",
            "mu = 4.787e-01\tcoeff E = 4.058e-02 // 1.022e+00%\tMedium  = Mg // 2.000e-01%\n",
            "mu = 1.449e-01\tcoeff E = 1.405e-01 // 8.960e+01%\tMedium  = Mg // 2.000e-01%\n",
            "mu = 1.301e-01\tcoeff E = 1.811e-01 // 6.010e+00%\tMedium  = Mg // 2.000e-01%\n",
            "mu = 9.881e-02\tcoeff E = 3.664e-01 // 1.194e+00%\tMedium  = Mg // 2.000e-01%\n",
            "mu = 7.304e-02\tcoeff E = 7.395e-01 // 1.212e+01%\tMedium  = Mg // 2.000e-01%\n",
            "mu = 7.116e-02\tcoeff E = 7.779e-01 // 4.280e+00%\tMedium  = Mg // 2.000e-01%\n",
            " ----------------------------------------------------- \n",
            "mu = 5.567e-01\tcoeff E = 4.058e-02 // 1.022e+00%\tMedium  = Al // 3.387e+00%\n",
            "mu = 1.440e-01\tcoeff E = 1.405e-01 // 8.960e+01%\tMedium  = Al // 3.387e+00%\n",
            "mu = 1.282e-01\tcoeff E = 1.811e-01 // 6.010e+00%\tMedium  = Al // 3.387e+00%\n",
            "mu = 9.660e-02\tcoeff E = 3.664e-01 // 1.194e+00%\tMedium  = Al // 3.387e+00%\n",
            "mu = 7.132e-02\tcoeff E = 7.395e-01 // 1.212e+01%\tMedium  = Al // 3.387e+00%\n",
            "mu = 6.947e-02\tcoeff E = 7.779e-01 // 4.280e+00%\tMedium  = Al // 3.387e+00%\n",
            " ----------------------------------------------------- \n",
            "mu = 6.857e-01\tcoeff E = 4.058e-02 // 1.022e+00%\tMedium  = Si // 3.370e+01%\n",
            "mu = 1.521e-01\tcoeff E = 1.405e-01 // 8.960e+01%\tMedium  = Si // 3.370e+01%\n",
            "mu = 1.340e-01\tcoeff E = 1.811e-01 // 6.010e+00%\tMedium  = Si // 3.370e+01%\n",
            "mu = 1.002e-01\tcoeff E = 3.664e-01 // 1.194e+00%\tMedium  = Si // 3.370e+01%\n",
            "mu = 7.383e-02\tcoeff E = 7.395e-01 // 1.212e+01%\tMedium  = Si // 3.370e+01%\n",
            "mu = 7.192e-02\tcoeff E = 7.779e-01 // 4.280e+00%\tMedium  = Si // 3.370e+01%\n",
            " ----------------------------------------------------- \n",
            "mu = 1.502e+00\tcoeff E = 4.058e-02 // 1.022e+00%\tMedium  = K // 1.300e+00%\n",
            "mu = 1.727e-01\tcoeff E = 1.405e-01 // 8.960e+01%\tMedium  = K // 1.300e+00%\n",
            "mu = 1.418e-01\tcoeff E = 1.811e-01 // 6.010e+00%\tMedium  = K // 1.300e+00%\n",
            "mu = 9.933e-02\tcoeff E = 3.664e-01 // 1.194e+00%\tMedium  = K // 1.300e+00%\n",
            "mu = 7.229e-02\tcoeff E = 7.395e-01 // 1.212e+01%\tMedium  = K // 1.300e+00%\n",
            "mu = 7.039e-02\tcoeff E = 7.779e-01 // 4.280e+00%\tMedium  = K // 1.300e+00%\n",
            " ----------------------------------------------------- \n",
            "mu = 1.783e+00\tcoeff E = 4.058e-02 // 1.022e+00%\tMedium  = Ca // 4.400e+00%\n",
            "mu = 1.844e-01\tcoeff E = 1.405e-01 // 8.960e+01%\tMedium  = Ca // 4.400e+00%\n",
            "mu = 1.489e-01\tcoeff E = 1.811e-01 // 6.010e+00%\tMedium  = Ca // 4.400e+00%\n",
            "mu = 1.025e-01\tcoeff E = 3.664e-01 // 1.194e+00%\tMedium  = Ca // 4.400e+00%\n",
            "mu = 7.432e-02\tcoeff E = 7.395e-01 // 1.212e+01%\tMedium  = Ca // 4.400e+00%\n",
            "mu = 7.235e-02\tcoeff E = 7.779e-01 // 4.280e+00%\tMedium  = Ca // 4.400e+00%\n",
            " ----------------------------------------------------- \n",
            "mu = 3.531e+00\tcoeff E = 4.058e-02 // 1.022e+00%\tMedium  = Fe // 1.400e+00%\n",
            "mu = 2.297e-01\tcoeff E = 1.405e-01 // 8.960e+01%\tMedium  = Fe // 1.400e+00%\n",
            "mu = 1.651e-01\tcoeff E = 1.811e-01 // 6.010e+00%\tMedium  = Fe // 1.400e+00%\n",
            "mu = 9.934e-02\tcoeff E = 3.664e-01 // 1.194e+00%\tMedium  = Fe // 1.400e+00%\n",
            "mu = 7.003e-02\tcoeff E = 7.395e-01 // 1.212e+01%\tMedium  = Fe // 1.400e+00%\n",
            "mu = 6.810e-02\tcoeff E = 7.779e-01 // 4.280e+00%\tMedium  = Fe // 1.400e+00%\n",
            " ----------------------------------------------------- \n",
            "mu = 2.659e-01\tcoeff E = 4.058e-02 // 1.022e+00%\tMedium  = Water // 1.000e+02%\n",
            "mu = 1.543e-01\tcoeff E = 1.405e-01 // 8.960e+01%\tMedium  = Water // 1.000e+02%\n",
            "mu = 1.421e-01\tcoeff E = 1.811e-01 // 6.010e+00%\tMedium  = Water // 1.000e+02%\n",
            "mu = 1.103e-01\tcoeff E = 3.664e-01 // 1.194e+00%\tMedium  = Water // 1.000e+02%\n",
            "mu = 8.196e-02\tcoeff E = 7.395e-01 // 1.212e+01%\tMedium  = Water // 1.000e+02%\n",
            "mu = 7.986e-02\tcoeff E = 7.779e-01 // 4.280e+00%\tMedium  = Water // 1.000e+02%\n"
          ]
        }
      ]
    },
    {
      "cell_type": "markdown",
      "metadata": {
        "id": "Fik1VCqnQhdF"
      },
      "source": [
        "\n",
        "####**-- Calculate Dose to the shielding**\n",
        "\n",
        "In this part we can calculate dose rate using the following equation:\n",
        "\n",
        "$\\dot{D}[Gray/h]=\\Gamma \\dfrac{A[MBq] \\times B(E)}{d^2[cm^2]}$\n",
        "\n",
        "where $d$ is the distance from source to shielding or to target (if there is no shielding)."
      ]
    },
    {
      "cell_type": "code",
      "metadata": {
        "colab": {
          "base_uri": "https://localhost:8080/"
        },
        "id": "WmL3VWwBQT2g",
        "outputId": "48a67260-d5e0-42c5-96d3-8bdd7808796e"
      },
      "source": [
        "A = float(input('Input source Activity [MBq] = '))\n",
        "\n",
        "G = E*f*1.6e-13*1e6*3.6e3*mu_med/(4*math.pi*Med_den)\n",
        "D = G*A*build_up/(Med_dx**2)\n",
        "\n",
        "print('\\n Absorbed Dose in Al face is = ')\n",
        "for e,d in zip(E,D):\n",
        "  print('{:.5e} MeV   ----   {:.5e} mGy/h'.format(e/1000,d*1e3))"
      ],
      "execution_count": null,
      "outputs": [
        {
          "output_type": "stream",
          "name": "stdout",
          "text": [
            "Input source Activity [MBq] = 1\n",
            "\n",
            " Absorbed Dose in Al face is = \n",
            "4.05832e-02 MeV   ----   1.52937e-04 mGy/h\n",
            "1.40511e-01 MeV   ----   4.24019e-02 mGy/h\n",
            "1.81094e-01 MeV   ----   2.54638e-03 mGy/h\n",
            "3.66421e-01 MeV   ----   3.29877e-04 mGy/h\n",
            "7.39500e-01 MeV   ----   2.27779e-03 mGy/h\n",
            "7.77921e-01 MeV   ----   7.77661e-04 mGy/h\n"
          ]
        }
      ]
    },
    {
      "cell_type": "markdown",
      "source": [
        "####**-- Calculate Dose to the target**\n",
        "\n",
        "This is the final result. The dose for each energy level are obtained using the exponential relation mentioned in Attenuation function section. The final result is the summation of dose in all energy level. \n",
        "\n",
        "$\\dot{D} = \\sum^n_{i=1}{\\dot{D}(E_i)e^{-\\sum^{m}_{j=1}{\\mu_j(E_i)\\Delta x_j}}}$\n",
        "\n",
        "where n is number of energy level and m is number of shielding layer.\n",
        "\n",
        "You can input the weighting factor of tissue to calculate equivalent dose in unit of Sv/h."
      ],
      "metadata": {
        "id": "nHoehM4n9Z9v"
      }
    },
    {
      "cell_type": "code",
      "source": [
        "for n,mu in enumerate(mu_shield):\n",
        "  D *= np.exp(-mu*Shield[n]['thickness'])\n",
        "\n",
        "print('\\n Absorbed Dose in target is = ')\n",
        "for e,d in zip(E,D):\n",
        "  print('{:.5e} MeV   ----   {:.5e} mGy/h'.format(e/1000,d*1e3))\n",
        "print('\\n ---------------------------- \\n',\n",
        "      'total = {:.5e} mGy/h'.format(np.sum(D*1e3)))\n",
        "\n",
        "wr  = float(input('\\nInput the weighting Factor = '))\n",
        "D_E = 1*wr*np.sum(D)\n",
        "\n",
        "print('\\n ---------------------------- \\n',\n",
        "      'equivalent dose = {:.5e} mSv/h'.format(D_E))\n"
      ],
      "metadata": {
        "colab": {
          "base_uri": "https://localhost:8080/"
        },
        "id": "iNSUAt3NAIGU",
        "outputId": "0a065ebc-84a5-4c66-f4b9-1782393fd699"
      },
      "execution_count": null,
      "outputs": [
        {
          "output_type": "stream",
          "name": "stdout",
          "text": [
            "\n",
            " Absorbed Dose in target is = \n",
            "4.05832e-02 MeV   ----   3.21094e-13 mGy/h\n",
            "1.40511e-01 MeV   ----   1.49041e-04 mGy/h\n",
            "1.81094e-01 MeV   ----   1.62297e-05 mGy/h\n",
            "3.66421e-01 MeV   ----   7.16213e-06 mGy/h\n",
            "7.39500e-01 MeV   ----   1.34291e-04 mGy/h\n",
            "7.77921e-01 MeV   ----   4.93193e-05 mGy/h\n",
            "\n",
            " ---------------------------- \n",
            " total = 3.56043e-04 mGy/h\n",
            "\n",
            "Input the weighting Factor = 0.12\n",
            "\n",
            " ---------------------------- \n",
            " equivalent dose = 4.27252e-08 mSv/h\n"
          ]
        }
      ]
    },
    {
      "cell_type": "code",
      "source": [
        ""
      ],
      "metadata": {
        "id": "MP2U5cw7F8gz"
      },
      "execution_count": null,
      "outputs": []
    }
  ]
}