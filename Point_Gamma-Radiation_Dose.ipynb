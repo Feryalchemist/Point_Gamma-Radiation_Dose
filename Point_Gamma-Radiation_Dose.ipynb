{
  "nbformat": 4,
  "nbformat_minor": 0,
  "metadata": {
    "colab": {
      "name": "Blogpost_Radiation_Dose.ipynb",
      "provenance": [],
      "collapsed_sections": [
        "Fik1VCqnQhdF"
      ],
      "toc_visible": true
    },
    "kernelspec": {
      "name": "python3",
      "display_name": "Python 3"
    },
    "language_info": {
      "name": "python"
    }
  },
  "cells": [
    {
      "cell_type": "markdown",
      "metadata": {
        "id": "-eR2qMytV1--"
      },
      "source": [
        "#**$\\gamma$ External Radiation Dose**\n",
        "\n",
        "This article will explain about a method to calculate the radiation dose that exposed through a source outside human body. You can think of it like the sunlight esposure or even your room light exposure. However, this article focused on the gamma radiation since it can be lethal in unsafe dosage. Therefore, the safety of gamma radiation in nuclear or medic application is deemed important.\n",
        "\n",
        "\n",
        "Hereby, I'll show the script to \n",
        "\n",
        "##**1. Packages**\n",
        "\n",
        "**First**, we need to import several packages such as numpy and pandas. I already summarized the necessary table into an Excel spreadsheet. I'll put the reference of the data in the end of this article. \n",
        "\n",
        "You can download the table from this [this URL](https://):"
      ]
    },
    {
      "cell_type": "code",
      "metadata": {
        "id": "10p20shKVxUa"
      },
      "source": [
        "import math\n",
        "import pandas as pd\n",
        "import numpy as np\n",
        "from pandas import ExcelWriter\n",
        "from pandas import ExcelFile\n",
        "\n",
        "import requests\n",
        "url = 'https://'\n",
        "r   = requests.get(url, allow_redirects=True)\n",
        "open('', 'wb').write(r.content)"
      ],
      "execution_count": null,
      "outputs": []
    },
    {
      "cell_type": "code",
      "metadata": {
        "colab": {
          "resources": {
            "http://localhost:8080/nbextensions/google.colab/files.js": {
              "data": "Ly8gQ29weXJpZ2h0IDIwMTcgR29vZ2xlIExMQwovLwovLyBMaWNlbnNlZCB1bmRlciB0aGUgQXBhY2hlIExpY2Vuc2UsIFZlcnNpb24gMi4wICh0aGUgIkxpY2Vuc2UiKTsKLy8geW91IG1heSBub3QgdXNlIHRoaXMgZmlsZSBleGNlcHQgaW4gY29tcGxpYW5jZSB3aXRoIHRoZSBMaWNlbnNlLgovLyBZb3UgbWF5IG9idGFpbiBhIGNvcHkgb2YgdGhlIExpY2Vuc2UgYXQKLy8KLy8gICAgICBodHRwOi8vd3d3LmFwYWNoZS5vcmcvbGljZW5zZXMvTElDRU5TRS0yLjAKLy8KLy8gVW5sZXNzIHJlcXVpcmVkIGJ5IGFwcGxpY2FibGUgbGF3IG9yIGFncmVlZCB0byBpbiB3cml0aW5nLCBzb2Z0d2FyZQovLyBkaXN0cmlidXRlZCB1bmRlciB0aGUgTGljZW5zZSBpcyBkaXN0cmlidXRlZCBvbiBhbiAiQVMgSVMiIEJBU0lTLAovLyBXSVRIT1VUIFdBUlJBTlRJRVMgT1IgQ09ORElUSU9OUyBPRiBBTlkgS0lORCwgZWl0aGVyIGV4cHJlc3Mgb3IgaW1wbGllZC4KLy8gU2VlIHRoZSBMaWNlbnNlIGZvciB0aGUgc3BlY2lmaWMgbGFuZ3VhZ2UgZ292ZXJuaW5nIHBlcm1pc3Npb25zIGFuZAovLyBsaW1pdGF0aW9ucyB1bmRlciB0aGUgTGljZW5zZS4KCi8qKgogKiBAZmlsZW92ZXJ2aWV3IEhlbHBlcnMgZm9yIGdvb2dsZS5jb2xhYiBQeXRob24gbW9kdWxlLgogKi8KKGZ1bmN0aW9uKHNjb3BlKSB7CmZ1bmN0aW9uIHNwYW4odGV4dCwgc3R5bGVBdHRyaWJ1dGVzID0ge30pIHsKICBjb25zdCBlbGVtZW50ID0gZG9jdW1lbnQuY3JlYXRlRWxlbWVudCgnc3BhbicpOwogIGVsZW1lbnQudGV4dENvbnRlbnQgPSB0ZXh0OwogIGZvciAoY29uc3Qga2V5IG9mIE9iamVjdC5rZXlzKHN0eWxlQXR0cmlidXRlcykpIHsKICAgIGVsZW1lbnQuc3R5bGVba2V5XSA9IHN0eWxlQXR0cmlidXRlc1trZXldOwogIH0KICByZXR1cm4gZWxlbWVudDsKfQoKLy8gTWF4IG51bWJlciBvZiBieXRlcyB3aGljaCB3aWxsIGJlIHVwbG9hZGVkIGF0IGEgdGltZS4KY29uc3QgTUFYX1BBWUxPQURfU0laRSA9IDEwMCAqIDEwMjQ7CgpmdW5jdGlvbiBfdXBsb2FkRmlsZXMoaW5wdXRJZCwgb3V0cHV0SWQpIHsKICBjb25zdCBzdGVwcyA9IHVwbG9hZEZpbGVzU3RlcChpbnB1dElkLCBvdXRwdXRJZCk7CiAgY29uc3Qgb3V0cHV0RWxlbWVudCA9IGRvY3VtZW50LmdldEVsZW1lbnRCeUlkKG91dHB1dElkKTsKICAvLyBDYWNoZSBzdGVwcyBvbiB0aGUgb3V0cHV0RWxlbWVudCB0byBtYWtlIGl0IGF2YWlsYWJsZSBmb3IgdGhlIG5leHQgY2FsbAogIC8vIHRvIHVwbG9hZEZpbGVzQ29udGludWUgZnJvbSBQeXRob24uCiAgb3V0cHV0RWxlbWVudC5zdGVwcyA9IHN0ZXBzOwoKICByZXR1cm4gX3VwbG9hZEZpbGVzQ29udGludWUob3V0cHV0SWQpOwp9CgovLyBUaGlzIGlzIHJvdWdobHkgYW4gYXN5bmMgZ2VuZXJhdG9yIChub3Qgc3VwcG9ydGVkIGluIHRoZSBicm93c2VyIHlldCksCi8vIHdoZXJlIHRoZXJlIGFyZSBtdWx0aXBsZSBhc3luY2hyb25vdXMgc3RlcHMgYW5kIHRoZSBQeXRob24gc2lkZSBpcyBnb2luZwovLyB0byBwb2xsIGZvciBjb21wbGV0aW9uIG9mIGVhY2ggc3RlcC4KLy8gVGhpcyB1c2VzIGEgUHJvbWlzZSB0byBibG9jayB0aGUgcHl0aG9uIHNpZGUgb24gY29tcGxldGlvbiBvZiBlYWNoIHN0ZXAsCi8vIHRoZW4gcGFzc2VzIHRoZSByZXN1bHQgb2YgdGhlIHByZXZpb3VzIHN0ZXAgYXMgdGhlIGlucHV0IHRvIHRoZSBuZXh0IHN0ZXAuCmZ1bmN0aW9uIF91cGxvYWRGaWxlc0NvbnRpbnVlKG91dHB1dElkKSB7CiAgY29uc3Qgb3V0cHV0RWxlbWVudCA9IGRvY3VtZW50LmdldEVsZW1lbnRCeUlkKG91dHB1dElkKTsKICBjb25zdCBzdGVwcyA9IG91dHB1dEVsZW1lbnQuc3RlcHM7CgogIGNvbnN0IG5leHQgPSBzdGVwcy5uZXh0KG91dHB1dEVsZW1lbnQubGFzdFByb21pc2VWYWx1ZSk7CiAgcmV0dXJuIFByb21pc2UucmVzb2x2ZShuZXh0LnZhbHVlLnByb21pc2UpLnRoZW4oKHZhbHVlKSA9PiB7CiAgICAvLyBDYWNoZSB0aGUgbGFzdCBwcm9taXNlIHZhbHVlIHRvIG1ha2UgaXQgYXZhaWxhYmxlIHRvIHRoZSBuZXh0CiAgICAvLyBzdGVwIG9mIHRoZSBnZW5lcmF0b3IuCiAgICBvdXRwdXRFbGVtZW50Lmxhc3RQcm9taXNlVmFsdWUgPSB2YWx1ZTsKICAgIHJldHVybiBuZXh0LnZhbHVlLnJlc3BvbnNlOwogIH0pOwp9CgovKioKICogR2VuZXJhdG9yIGZ1bmN0aW9uIHdoaWNoIGlzIGNhbGxlZCBiZXR3ZWVuIGVhY2ggYXN5bmMgc3RlcCBvZiB0aGUgdXBsb2FkCiAqIHByb2Nlc3MuCiAqIEBwYXJhbSB7c3RyaW5nfSBpbnB1dElkIEVsZW1lbnQgSUQgb2YgdGhlIGlucHV0IGZpbGUgcGlja2VyIGVsZW1lbnQuCiAqIEBwYXJhbSB7c3RyaW5nfSBvdXRwdXRJZCBFbGVtZW50IElEIG9mIHRoZSBvdXRwdXQgZGlzcGxheS4KICogQHJldHVybiB7IUl0ZXJhYmxlPCFPYmplY3Q+fSBJdGVyYWJsZSBvZiBuZXh0IHN0ZXBzLgogKi8KZnVuY3Rpb24qIHVwbG9hZEZpbGVzU3RlcChpbnB1dElkLCBvdXRwdXRJZCkgewogIGNvbnN0IGlucHV0RWxlbWVudCA9IGRvY3VtZW50LmdldEVsZW1lbnRCeUlkKGlucHV0SWQpOwogIGlucHV0RWxlbWVudC5kaXNhYmxlZCA9IGZhbHNlOwoKICBjb25zdCBvdXRwdXRFbGVtZW50ID0gZG9jdW1lbnQuZ2V0RWxlbWVudEJ5SWQob3V0cHV0SWQpOwogIG91dHB1dEVsZW1lbnQuaW5uZXJIVE1MID0gJyc7CgogIGNvbnN0IHBpY2tlZFByb21pc2UgPSBuZXcgUHJvbWlzZSgocmVzb2x2ZSkgPT4gewogICAgaW5wdXRFbGVtZW50LmFkZEV2ZW50TGlzdGVuZXIoJ2NoYW5nZScsIChlKSA9PiB7CiAgICAgIHJlc29sdmUoZS50YXJnZXQuZmlsZXMpOwogICAgfSk7CiAgfSk7CgogIGNvbnN0IGNhbmNlbCA9IGRvY3VtZW50LmNyZWF0ZUVsZW1lbnQoJ2J1dHRvbicpOwogIGlucHV0RWxlbWVudC5wYXJlbnRFbGVtZW50LmFwcGVuZENoaWxkKGNhbmNlbCk7CiAgY2FuY2VsLnRleHRDb250ZW50ID0gJ0NhbmNlbCB1cGxvYWQnOwogIGNvbnN0IGNhbmNlbFByb21pc2UgPSBuZXcgUHJvbWlzZSgocmVzb2x2ZSkgPT4gewogICAgY2FuY2VsLm9uY2xpY2sgPSAoKSA9PiB7CiAgICAgIHJlc29sdmUobnVsbCk7CiAgICB9OwogIH0pOwoKICAvLyBXYWl0IGZvciB0aGUgdXNlciB0byBwaWNrIHRoZSBmaWxlcy4KICBjb25zdCBmaWxlcyA9IHlpZWxkIHsKICAgIHByb21pc2U6IFByb21pc2UucmFjZShbcGlja2VkUHJvbWlzZSwgY2FuY2VsUHJvbWlzZV0pLAogICAgcmVzcG9uc2U6IHsKICAgICAgYWN0aW9uOiAnc3RhcnRpbmcnLAogICAgfQogIH07CgogIGNhbmNlbC5yZW1vdmUoKTsKCiAgLy8gRGlzYWJsZSB0aGUgaW5wdXQgZWxlbWVudCBzaW5jZSBmdXJ0aGVyIHBpY2tzIGFyZSBub3QgYWxsb3dlZC4KICBpbnB1dEVsZW1lbnQuZGlzYWJsZWQgPSB0cnVlOwoKICBpZiAoIWZpbGVzKSB7CiAgICByZXR1cm4gewogICAgICByZXNwb25zZTogewogICAgICAgIGFjdGlvbjogJ2NvbXBsZXRlJywKICAgICAgfQogICAgfTsKICB9CgogIGZvciAoY29uc3QgZmlsZSBvZiBmaWxlcykgewogICAgY29uc3QgbGkgPSBkb2N1bWVudC5jcmVhdGVFbGVtZW50KCdsaScpOwogICAgbGkuYXBwZW5kKHNwYW4oZmlsZS5uYW1lLCB7Zm9udFdlaWdodDogJ2JvbGQnfSkpOwogICAgbGkuYXBwZW5kKHNwYW4oCiAgICAgICAgYCgke2ZpbGUudHlwZSB8fCAnbi9hJ30pIC0gJHtmaWxlLnNpemV9IGJ5dGVzLCBgICsKICAgICAgICBgbGFzdCBtb2RpZmllZDogJHsKICAgICAgICAgICAgZmlsZS5sYXN0TW9kaWZpZWREYXRlID8gZmlsZS5sYXN0TW9kaWZpZWREYXRlLnRvTG9jYWxlRGF0ZVN0cmluZygpIDoKICAgICAgICAgICAgICAgICAgICAgICAgICAgICAgICAgICAgJ24vYSd9IC0gYCkpOwogICAgY29uc3QgcGVyY2VudCA9IHNwYW4oJzAlIGRvbmUnKTsKICAgIGxpLmFwcGVuZENoaWxkKHBlcmNlbnQpOwoKICAgIG91dHB1dEVsZW1lbnQuYXBwZW5kQ2hpbGQobGkpOwoKICAgIGNvbnN0IGZpbGVEYXRhUHJvbWlzZSA9IG5ldyBQcm9taXNlKChyZXNvbHZlKSA9PiB7CiAgICAgIGNvbnN0IHJlYWRlciA9IG5ldyBGaWxlUmVhZGVyKCk7CiAgICAgIHJlYWRlci5vbmxvYWQgPSAoZSkgPT4gewogICAgICAgIHJlc29sdmUoZS50YXJnZXQucmVzdWx0KTsKICAgICAgfTsKICAgICAgcmVhZGVyLnJlYWRBc0FycmF5QnVmZmVyKGZpbGUpOwogICAgfSk7CiAgICAvLyBXYWl0IGZvciB0aGUgZGF0YSB0byBiZSByZWFkeS4KICAgIGxldCBmaWxlRGF0YSA9IHlpZWxkIHsKICAgICAgcHJvbWlzZTogZmlsZURhdGFQcm9taXNlLAogICAgICByZXNwb25zZTogewogICAgICAgIGFjdGlvbjogJ2NvbnRpbnVlJywKICAgICAgfQogICAgfTsKCiAgICAvLyBVc2UgYSBjaHVua2VkIHNlbmRpbmcgdG8gYXZvaWQgbWVzc2FnZSBzaXplIGxpbWl0cy4gU2VlIGIvNjIxMTU2NjAuCiAgICBsZXQgcG9zaXRpb24gPSAwOwogICAgd2hpbGUgKHBvc2l0aW9uIDwgZmlsZURhdGEuYnl0ZUxlbmd0aCkgewogICAgICBjb25zdCBsZW5ndGggPSBNYXRoLm1pbihmaWxlRGF0YS5ieXRlTGVuZ3RoIC0gcG9zaXRpb24sIE1BWF9QQVlMT0FEX1NJWkUpOwogICAgICBjb25zdCBjaHVuayA9IG5ldyBVaW50OEFycmF5KGZpbGVEYXRhLCBwb3NpdGlvbiwgbGVuZ3RoKTsKICAgICAgcG9zaXRpb24gKz0gbGVuZ3RoOwoKICAgICAgY29uc3QgYmFzZTY0ID0gYnRvYShTdHJpbmcuZnJvbUNoYXJDb2RlLmFwcGx5KG51bGwsIGNodW5rKSk7CiAgICAgIHlpZWxkIHsKICAgICAgICByZXNwb25zZTogewogICAgICAgICAgYWN0aW9uOiAnYXBwZW5kJywKICAgICAgICAgIGZpbGU6IGZpbGUubmFtZSwKICAgICAgICAgIGRhdGE6IGJhc2U2NCwKICAgICAgICB9LAogICAgICB9OwogICAgICBwZXJjZW50LnRleHRDb250ZW50ID0KICAgICAgICAgIGAke01hdGgucm91bmQoKHBvc2l0aW9uIC8gZmlsZURhdGEuYnl0ZUxlbmd0aCkgKiAxMDApfSUgZG9uZWA7CiAgICB9CiAgfQoKICAvLyBBbGwgZG9uZS4KICB5aWVsZCB7CiAgICByZXNwb25zZTogewogICAgICBhY3Rpb246ICdjb21wbGV0ZScsCiAgICB9CiAgfTsKfQoKc2NvcGUuZ29vZ2xlID0gc2NvcGUuZ29vZ2xlIHx8IHt9OwpzY29wZS5nb29nbGUuY29sYWIgPSBzY29wZS5nb29nbGUuY29sYWIgfHwge307CnNjb3BlLmdvb2dsZS5jb2xhYi5fZmlsZXMgPSB7CiAgX3VwbG9hZEZpbGVzLAogIF91cGxvYWRGaWxlc0NvbnRpbnVlLAp9Owp9KShzZWxmKTsK",
              "ok": true,
              "headers": [
                [
                  "content-type",
                  "application/javascript"
                ]
              ],
              "status": 200,
              "status_text": ""
            }
          },
          "base_uri": "https://localhost:8080/",
          "height": 86
        },
        "id": "PU-JxvKvUi0o",
        "outputId": "cfc7ebd6-c516-4a26-a6e8-fec3330474fd"
      },
      "source": [
        "from google.colab import files\n",
        "uploaded = files.upload()"
      ],
      "execution_count": null,
      "outputs": [
        {
          "output_type": "display_data",
          "data": {
            "text/html": [
              "\n",
              "     <input type=\"file\" id=\"files-b0eaca7d-985a-4eec-a05b-069097e56eb1\" name=\"files[]\" multiple disabled\n",
              "        style=\"border:none\" />\n",
              "     <output id=\"result-b0eaca7d-985a-4eec-a05b-069097e56eb1\">\n",
              "      Upload widget is only available when the cell has been executed in the\n",
              "      current browser session. Please rerun this cell to enable.\n",
              "      </output>\n",
              "      <script src=\"/nbextensions/google.colab/files.js\"></script> "
            ],
            "text/plain": [
              "<IPython.core.display.HTML object>"
            ]
          },
          "metadata": {
            "tags": []
          }
        },
        {
          "output_type": "stream",
          "text": [
            "Saving DPR-ProRad.xlsx to DPR-ProRad.xlsx\n"
          ],
          "name": "stdout"
        }
      ]
    },
    {
      "cell_type": "markdown",
      "metadata": {
        "id": "uRnYywxBeLWd"
      },
      "source": [
        "##**2. Function**\n",
        "\n",
        "Before we begin the calculation, we need to define the function to calculate our problem. In this second step, I will define several important fuction"
      ]
    },
    {
      "cell_type": "markdown",
      "metadata": {
        "id": "J4IIy9QJf6RH"
      },
      "source": [
        "###**Linear Interpolation**\n",
        "The interpolation will help us to find the value that unwritten in the table. In simple way, we can utilize linear interpolation to calculate value between two value written in the table.\n",
        "\n",
        "$y = f(x)$\n",
        "\n",
        "$y = \\dfrac{(x-x_1)(y_2-y_1)}{(x_2-x_1)} + y_1$\n"
      ]
    },
    {
      "cell_type": "code",
      "metadata": {
        "id": "fHaML5U_fm4v"
      },
      "source": [
        "def Interpolation(x1,y1,x2,y2,x):\n",
        "  y=(x-x1)*(y2-y1)/(x2-x1)+y1\n",
        "  return y"
      ],
      "execution_count": null,
      "outputs": []
    },
    {
      "cell_type": "markdown",
      "metadata": {
        "id": "XEoxHln2mu9r"
      },
      "source": [
        "###**Gamma Property**\n",
        "\n",
        "There are some important parameter of radionuclide source that determine the radiation dose. Some radionuclide may emmit multiple energy with varied emmision probability. This function will extract multiple gamma energy of a determined radionuclide in the **spreadsheet's sheet 'Gamma _emmision'**.\n",
        "\n",
        "where the properties includes:\n",
        "\n",
        "\n",
        "1.   $f_i$ = energy probability\n",
        "2.   $E_i$ = emitted energy\n",
        "\n"
      ]
    },
    {
      "cell_type": "code",
      "metadata": {
        "id": "V3-BHMM-or2o"
      },
      "source": [
        "Gammadf = pd.read_excel('DPR-ProRad.xlsx', sheet_name='Gamma_emission',header=[0])\n",
        "\n",
        "def Gamma_property(Nuclide,Gammadf):\n",
        "  E=[]; f=[]\n",
        "  stdev_E=[]; stdev_f=[]\n",
        "  for i in range(0,len(Gammadf)):\n",
        "    if Gammadf['Nuclide'].iloc[i]==Nuclide:\n",
        "\t    E.append(Gammadf['E'].iloc[i])\n",
        "\t    stdev_E.append(Gammadf['stdev-E'].iloc[i])\n",
        "\t    f.append(Gammadf['f'].iloc[i])\n",
        "\t    stdev_f.append(Gammadf['stdev-f'].iloc[i])\n",
        "     #Energy in keV\n",
        "  return (np.array(E),np.array(f),np.array(stdev_E),np.array(stdev_f))"
      ],
      "execution_count": null,
      "outputs": []
    },
    {
      "cell_type": "markdown",
      "metadata": {
        "id": "mdVflnXso7MG"
      },
      "source": [
        "###**Attenuation & Mass Absorption Coefficient**\n",
        "\n",
        "Attenuation coefficient is a coefficient that determine the reduction of energy when radiation pass through a medium. On the other hand, Mass Absorption Coefficient determines the radiation mass/energy absorbed by a material when being exposed. Therefore, attenuation coefficeint and Mass Absorption coefficient is based on energy level. The data obtained from **spreadsheet's sheet 'Appendix_D2' for Mass Absorption and 'Appendix_D1' for Attenuation**.\n",
        "\n",
        "Available Material is:\n",
        "```\n",
        "-H Be C N O Na Al Si Fe Cu Pb NaI Ge Air Water Bone Muscle Concrete Pyrex Lucite-\n",
        "```\n",
        "If ones used for calculating HVL $\\mu_{mass}$ should be converted to $\\mu_{lin} \\ [cm^{-1}]$ :\n",
        "\n",
        "###$\\mu_{mass}(E_e)=\\frac{\\mu_{lin}}{\\rho[\\frac{g}{cm^3}]}$\n",
        "\n",
        "\n",
        "With Bragg-Law the total from i component attenuation Coefficient is:\n",
        "\n",
        "###$\\mu_{mass}(E_e) [cm^2/g]=\\Sigma w_i \\mu_{i,e,mass} f_e$\n",
        "\n",
        "\n",
        "where:\n",
        "\n",
        "\n",
        "*   $E_e$ = Radiation energy\n",
        "*   $F_e$ = Emmision probability\n",
        "*   $_i$  = Medium material-i\n",
        "*   $w_i$ = Weight fraction of material-i in Medium\n",
        "\n",
        "\n",
        "\n"
      ]
    },
    {
      "cell_type": "code",
      "metadata": {
        "id": "vOZtWPkiuQJH"
      },
      "source": [
        "Appendix_D1 = pd.read_excel('DPR-ProRad.xlsx', sheet_name='Appendix D1',header=[0])\n",
        "Appendix_D2 = pd.read_excel('DPR-ProRad.xlsx', sheet_name='Appendix D2',header=[0])\n",
        "\n",
        "def Attenuation_coeff(Energy,Fraction,Medium,Ratio,Appendix_D):\n",
        "  '''\n",
        "  Mass Attenuation coefficient (Appendix_D1) cm2/g or \n",
        "  Mass Absorption coefficient  (Appendix_D2) cm2/g with Units in cgs\n",
        "  '''\n",
        "  mu=np.zeros((len(Energy),len(Medium)))\n",
        "  for m in range(0,len(Medium)):\n",
        "    for n in range(0,len(Energy)):\n",
        "      i=0\n",
        "      while Energy[n]-Appendix_D['E'].iloc[i]>0:\n",
        "        i+=1\n",
        "      mu[n,m]=(Interpolation(Appendix_D['E'].iloc[i-1],Appendix_D[Medium[m]].iloc[i-1],\n",
        "                             Appendix_D['E'].iloc[i],Appendix_D[Medium[m]].iloc[i],Energy[n]))\n",
        "      print('mu = '+'{:.3e}'.format(mu[n,m])+\n",
        "            '\\tcoeff E = '+'{:.3e}'.format(Energy[n])+' // '+'{:.3e}'.format(Fraction[n]*100)+'%'+\n",
        "            '\\tMedium = '+str(round(np.array(Ratio)[m]*100,2))+' % '+Medium[m])\n",
        "  M_grid,E_grid=np.meshgrid(np.array(Ratio),Fraction)\n",
        "  total_attenuation=np.sum(M_grid*E_grid*np.array(mu))\n",
        "  \n",
        "  #print('\\ntotal_attenuation = '+'{:.3e}'.format(total_attenuation))\n",
        "  return (np.array(mu)*M_grid,total_attenuation)"
      ],
      "execution_count": null,
      "outputs": []
    },
    {
      "cell_type": "markdown",
      "metadata": {
        "id": "ZolLSbX_hWr7"
      },
      "source": [
        "###**Buildup factor**\n",
        "\n",
        "Build up factor is factor that determine the multiplication of radiation dose because of refocused ray after scattered by a shielding material. The value determined by the attenuation factor, thus it also related to radiation energy.\n",
        "\n",
        "Build Up Factor obtained from **spreadsheet's sheet 'Appendix E'** with normalization equation of:\n",
        "###**$B=1+a \\mu r e^{b \\mu r}$**\n",
        "\n",
        "where :\n",
        "\n",
        "\n",
        "*   $a$ and $b$ = energy and cosine related  factor\n",
        "*   $\\mu$       = attenuation factor\n",
        "*   $r$         = shielding thickness\n",
        "\n",
        "\n",
        "Program will search $a$ and $b$ by checking the table energy value.\n",
        "\n",
        "```\n",
        "Available shielding material = Concrete Air Water Iron Lead\n",
        "```\n"
      ]
    },
    {
      "cell_type": "code",
      "metadata": {
        "id": "nWcDoO_4ku-p"
      },
      "source": [
        "Appendix_E = pd.read_excel('DPR-ProRad.xlsx', sheet_name='Appendix E',header=[0])\n",
        "\n",
        "def buildup(Material,E,mu,r,Appendix_E):\n",
        "  \"Material of shielding = Concrete, Air, Water, Iron, Lead\"\n",
        "  i=0\n",
        "  while E-Appendix_E['E'].iloc[i]>0:\n",
        "    i+=1\n",
        "  a=Interpolation(Appendix_E['E'].iloc[i-1],Appendix_E[Material+'-a'].iloc[i-1],\n",
        "                  Appendix_E['E'].iloc[i],Appendix_E[Material+'-a'].iloc[i],E)\n",
        "  b=Interpolation(Appendix_E['E'].iloc[i-1],Appendix_E[Material+'-b'].iloc[i-1],\n",
        "                  Appendix_E['E'].iloc[i],Appendix_E[Material+'-b'].iloc[i],E)\n",
        "  B=1+a*mu*r*math.exp(b*mu*r)\n",
        "  print('a = '+'{:.5e}'.format(a))\n",
        "  print('b = '+'{:.5e}'.format(b))\n",
        "  print('B = '+'{:.5e}'.format(B))\n",
        "  return B"
      ],
      "execution_count": null,
      "outputs": []
    },
    {
      "cell_type": "markdown",
      "metadata": {
        "id": "YGYLqiNpIaGT"
      },
      "source": [
        "##**3. Calculation**\n",
        "\n",
        "Now, lets move to the calculation. The basic equation for radiation absorbed dose is written below as function of energy :\n",
        "\n",
        "###$\\dot{D}\\ [\\frac{J/kg}{MBq/h}](E)=\\frac{f(\\frac{photons}{d})E(\\frac{MeV}{photon})1.6e-13(\\frac{J}{MeV})1e6(\\frac{d/s}{MBq})3.6e3(\\frac{s}{h})\\frac{\\mu}{m}}{4\\pi r^2[m^2]\\rho\\frac{kg}{m^3}}\\times B(E)$\n",
        "\n",
        "Therefore, if the nuclide emits multiple radiation energy, then the calculation for each energy must be separated and summed at the end.\n",
        "\n",
        "$^{***}$ This equation define the amount of energy transfered through a surface of the sphere $(4\\pi r ^2)$ with radius of the interested point to the source. This equation assume that the source is a isotropic point thus, it used whole surface of spehere.\n",
        "\n",
        "$\\sum_{e=1}^{n}{\\dot{D}} = \\dot{D}_1+\\dot{D}_2+...+\\dot{D}_n$\n",
        "\n"
      ]
    },
    {
      "cell_type": "markdown",
      "metadata": {
        "id": "sCzX2O6cLG0B"
      },
      "source": [
        "###**Absorbed Dose Calculation ($\\dot{D}$)**\n",
        "\n",
        "The calculation breaks into 3 part which are:\n",
        "\n",
        "1.   Get the Mass Absorption and Radiation Property\n",
        "2.   Calculate\n",
        "\n",
        "In this example we wanted to calculate the absorbed radiation dose emitted from Mo$^{99}$ that passed through perforated concrete (assummed to be 70% concrete and 30% air) and shielded by Lead. The target stand 10cm from the Lead.\n",
        "\n",
        "Here is the complete illustration of our problem:\n",
        "\n",
        "*<------ 30 cm perf. concrete ------>[//<------5 mm Lead------->\\\\]<-----5 cm air ----->{Target}\n"
      ]
    },
    {
      "cell_type": "code",
      "metadata": {
        "colab": {
          "base_uri": "https://localhost:8080/"
        },
        "id": "Vag3y-pIQmZE",
        "outputId": "47258fa0-8d6e-4e67-c377-d431bb9e4e30"
      },
      "source": [
        "Source   = input('Radiation Source is [format = Cs137] = ')\n",
        "Medium_1 = input('\\nRadiation Medium1 is = ')\n",
        "Medium_r1 = input('Input the Medium1 Composition (w.o)= ')\n",
        "d_M1     = float(input('Medium1 travel distance (m) = '))\n",
        "Shield   = input('\\nShielding Medium is = ')\n",
        "Shield_r = input('Input the Shield Composition (w.o)= ')\n",
        "Shield_R = float(input('Input the Shield Total Density (g/cm3) = '))\n",
        "d_Sd     = float(input('Shield thickness (m) = '))\n",
        "Medium_2 = input('\\nRadiation Medium2 is = ')\n",
        "Medium_r2 = input('Input the Medium2 Composition (w.o)= ')\n",
        "Medium_R2 = float(input('Input the Medium2 Total Density (g/cm3) = '))\n",
        "d_M2     = float(input('Medium2 travel distance (m) = '))\n",
        "\n",
        "\n",
        "\n",
        "# ==== input to array ==== \n",
        "Medium_1 = Medium_1.split(' ')\n",
        "Medium_r1 = np.array([float(x) for x in Medium_r1.split(' ')])\n",
        "Medium_2 = Medium_2.split(' ')\n",
        "Medium_r2 = np.array([float(x) for x in Medium_r2.split(' ')])\n",
        "Shield = Shield.split(' ')\n",
        "Shield_r = np.array([float(x) for x in Shield_r.split(' ')])"
      ],
      "execution_count": null,
      "outputs": [
        {
          "output_type": "stream",
          "text": [
            "Radiation Source is [format = Cs137] = Mo99\n",
            "\n",
            "Radiation Medium1 is = Concrete Air\n",
            "Input the Medium1 Composition (w.o)= 0.7 0.3\n",
            "Medium1 travel distance (m) = 0.3\n",
            "\n",
            "Shielding Medium is = Lead\n",
            "Input the Shield Composition (w.o)= 1\n",
            "Input the Shield Total Density (g/cm3) = 11.34\n",
            "Shield thickness (m) = 0.005\n",
            "\n",
            "Radiation Medium2 is = Air\n",
            "Input the Medium2 Composition (w.o)= 1\n",
            "Input the Medium2 Total Density (g/cm3) = 1.293e-3\n",
            "Medium2 travel distance (m) = 0.05\n"
          ],
          "name": "stdout"
        }
      ]
    },
    {
      "cell_type": "markdown",
      "metadata": {
        "id": "69yvBXwbRyTh"
      },
      "source": [
        "#### **-- target to lead shield**\n",
        "We need to separate the calculation for source until lead and lead until target. To solve the first part, the absorbed dose equation will be used."
      ]
    },
    {
      "cell_type": "markdown",
      "metadata": {
        "id": "WKJudyCsZwUZ"
      },
      "source": [
        "Since the table already in units of $cm^2/g$, therefore, the equation can be simplified into this equation :\n",
        "\n",
        "$\\dot{D}(E)=\\frac{f\\times E\\times 1.6e-13\\times 1e6\\times 3.6e3\\times \\mu_{mass}(\\frac{cm^2}{s})\\times 0.1}{4\\pi (1m^2)}\\times B(E)$"
      ]
    },
    {
      "cell_type": "code",
      "metadata": {
        "colab": {
          "base_uri": "https://localhost:8080/"
        },
        "id": "D-Tynct8Skt3",
        "outputId": "70f22052-fcd9-4f48-9f22-725d48b70469"
      },
      "source": [
        "# Mass Absorption Property\n",
        "E,f,stdev_E,stdev_f = Gamma_property(Source,Gammadf)\n",
        "mu_array=Attenuation_coeff(E/1000,f,Medium_1,Medium_r1,Appendix_D2)[0]\n",
        "\n",
        "# Sum the coefficient\n",
        "mu   = np.sum(mu_array,axis=1)\n",
        "\n",
        "# Finish the equation without Buildup\n",
        "D_1  = f*E*1.6e-13*1e6*3.6e3*mu*0.1/(np.pi*4)\n",
        "D_1  = D_1/d_M1**2\n",
        "\n",
        "\n",
        "print('\\n Absorbed Dose in Lead Shielding face is = \\n')\n",
        "for i in range(0,len(D_1)):\n",
        "  print('\\t E'+str(i),' = ',format(D_1[i],'.5E'),' (J/kg)/(MBq h)')"
      ],
      "execution_count": null,
      "outputs": [
        {
          "output_type": "stream",
          "text": [
            "mu = 3.820e-01\tcoeff E = 4.058e-02 // 1.022e+00%\tMedium = 70.0 % Concrete\n",
            "mu = 3.154e-02\tcoeff E = 1.405e-01 // 8.960e+01%\tMedium = 70.0 % Concrete\n",
            "mu = 2.900e-02\tcoeff E = 1.811e-01 // 6.010e+00%\tMedium = 70.0 % Concrete\n",
            "mu = 2.970e-02\tcoeff E = 3.664e-01 // 1.194e+00%\tMedium = 70.0 % Concrete\n",
            "mu = 2.914e-02\tcoeff E = 7.395e-01 // 1.212e+01%\tMedium = 70.0 % Concrete\n",
            "mu = 2.899e-02\tcoeff E = 7.779e-01 // 4.280e+00%\tMedium = 70.0 % Concrete\n",
            "mu = 6.527e-02\tcoeff E = 4.058e-02 // 1.022e+00%\tMedium = 30.0 % Air\n",
            "mu = 2.470e-02\tcoeff E = 1.405e-01 // 8.960e+01%\tMedium = 30.0 % Air\n",
            "mu = 2.612e-02\tcoeff E = 1.811e-01 // 6.010e+00%\tMedium = 30.0 % Air\n",
            "mu = 2.923e-02\tcoeff E = 3.664e-01 // 1.194e+00%\tMedium = 30.0 % Air\n",
            "mu = 2.908e-02\tcoeff E = 7.395e-01 // 1.212e+01%\tMedium = 30.0 % Air\n",
            "mu = 2.897e-02\tcoeff E = 7.779e-01 // 4.280e+00%\tMedium = 30.0 % Air\n",
            "\n",
            " Absorbed Dose in Lead Shielding face is = \n",
            "\n",
            "\t E0  =  6.06174E-06  (J/kg)/(MBq h)\n",
            "\t E1  =  1.89082E-04  (J/kg)/(MBq h)\n",
            "\t E2  =  1.55958E-05  (J/kg)/(MBq h)\n",
            "\t E3  =  6.58632E-06  (J/kg)/(MBq h)\n",
            "\t E4  =  1.32941E-04  (J/kg)/(MBq h)\n",
            "\t E5  =  4.91443E-05  (J/kg)/(MBq h)\n"
          ],
          "name": "stdout"
        }
      ]
    },
    {
      "cell_type": "markdown",
      "metadata": {
        "id": "Fik1VCqnQhdF"
      },
      "source": [
        "\n",
        "####**-- Buildup by Lead Shield**\n",
        "\n",
        "Then, we can calculate the dose by weighting the dose in the shielding face with Buildup factor. The value separated based on the energy.\n",
        "\n"
      ]
    },
    {
      "cell_type": "code",
      "metadata": {
        "colab": {
          "base_uri": "https://localhost:8080/"
        },
        "id": "WmL3VWwBQT2g",
        "outputId": "24d0f047-5189-461f-e75b-d3060f5e0a07"
      },
      "source": [
        "# Search Attenuation coefficient\n",
        "mu_shield = Attenuation_coeff(E/1000,f,Shield,Shield_r,Appendix_D1)[0]\n",
        "mu_shield = np.sum(mu_shield,axis=1) \n",
        "\n",
        "# Convert to linear attenuation coefficient\n",
        "mu_shield = mu_shield*Shield_R\n",
        "\n",
        "# Calculate buildup and create array of it\n",
        "build_up=np.zeros((len(E),len(Shield)))\n",
        "for j in range(0,len(Shield)):\n",
        "  for i in range(0,len(E)):\n",
        "    print('\\nBuildUp Equation Coefficient for energy','{:.3e}'.format(E[i]),'keV')\n",
        "    build_up[i,j]=(buildup(Shield[j],E[i]/1000,mu_shield[i],d_Sd,Appendix_E))\n",
        "\n",
        "# Calculate dose regarding buildup\n",
        "D_2 = np.sum(D_1*build_up.T,axis=0)\n",
        "print('\\n Absorbed Dose in Lead Shielding end is = \\n')\n",
        "for i in range(0,len(D_2)):\n",
        "  print('\\t E'+str(i),' = ',format(D_2[i],'.5E'),' (J/kg)/(MBq h)')"
      ],
      "execution_count": null,
      "outputs": [
        {
          "output_type": "stream",
          "text": [
            "mu = 1.276e+01\tcoeff E = 4.058e-02 // 1.022e+00%\tMedium = 100.0 % Lead\n",
            "mu = 2.524e+00\tcoeff E = 1.405e-01 // 8.960e+01%\tMedium = 100.0 % Lead\n",
            "mu = 1.302e+00\tcoeff E = 1.811e-01 // 6.010e+00%\tMedium = 100.0 % Lead\n",
            "mu = 2.747e-01\tcoeff E = 3.664e-01 // 1.194e+00%\tMedium = 100.0 % Lead\n",
            "mu = 9.601e-02\tcoeff E = 7.395e-01 // 1.212e+01%\tMedium = 100.0 % Lead\n",
            "mu = 8.940e-02\tcoeff E = 7.779e-01 // 4.280e+00%\tMedium = 100.0 % Lead\n",
            "\n",
            "BuildUp Equation Coefficient for energy 4.058e+01 keV\n",
            "a = 1.00000e-02\n",
            "b = -6.48335e-02\n",
            "B = 1.00690e+00\n",
            "\n",
            "BuildUp Equation Coefficient for energy 1.405e+02 keV\n",
            "a = 2.08102e-01\n",
            "b = 3.01381e-02\n",
            "B = 1.02991e+00\n",
            "\n",
            "BuildUp Equation Coefficient for energy 1.811e+02 keV\n",
            "a = 1.29156e-01\n",
            "b = -6.19405e-02\n",
            "B = 1.00949e+00\n",
            "\n",
            "BuildUp Equation Coefficient for energy 3.664e+02 keV\n",
            "a = 9.99263e-02\n",
            "b = -3.53505e-02\n",
            "B = 1.00156e+00\n",
            "\n",
            "BuildUp Equation Coefficient for energy 7.395e+02 keV\n",
            "a = 2.31850e-01\n",
            "b = -2.05125e-02\n",
            "B = 1.00126e+00\n",
            "\n",
            "BuildUp Equation Coefficient for energy 7.779e+02 keV\n",
            "a = 2.43376e-01\n",
            "b = -1.95520e-02\n",
            "B = 1.00123e+00\n",
            "\n",
            " Absorbed Dose in Lead Shielding end is = \n",
            "\n",
            "\t E0  =  6.10358E-06  (J/kg)/(MBq h)\n",
            "\t E1  =  1.94737E-04  (J/kg)/(MBq h)\n",
            "\t E2  =  1.57439E-05  (J/kg)/(MBq h)\n",
            "\t E3  =  6.59657E-06  (J/kg)/(MBq h)\n",
            "\t E4  =  1.33109E-04  (J/kg)/(MBq h)\n",
            "\t E5  =  4.92049E-05  (J/kg)/(MBq h)\n"
          ],
          "name": "stdout"
        }
      ]
    },
    {
      "cell_type": "markdown",
      "metadata": {
        "id": "E4OQNmU7qHxK"
      },
      "source": [
        "####**--Lead shield to target**\n",
        "\n",
        "For the last radiation track, we only need to calculate it using exponential equation. This method was used due to inverse square law. The equation written below:\n",
        "\n",
        "$\\dot{D}(r)=\\dot{D}(0) e^{-\\mu_{lin} r}$"
      ]
    },
    {
      "cell_type": "code",
      "metadata": {
        "colab": {
          "base_uri": "https://localhost:8080/"
        },
        "id": "aLcYAHN2tQYC",
        "outputId": "3bfeaca6-32ed-4407-844e-9fb2ce329b04"
      },
      "source": [
        "# Search attenuation coefficient\n",
        "m2_array=Attenuation_coeff(E/1000,f,Medium_2,Medium_r2,Appendix_D1)[0]\n",
        "\n",
        "# Calculate\n",
        "m2_array=np.sum(m2_array,axis=1)\n",
        "D_3=D_2*np.exp(-m2_array*d_M2)\n",
        "\n",
        "print('\\n Absorbed Dose in Lead Shielding end is = \\n')\n",
        "for i in range(0,len(D_3)):\n",
        "  print('\\t E'+str(i),' = ',format(D_3[i],'.5E'),' (J/kg)/(MBq h)')\n",
        "\n",
        "print('\\n Total radiation received by targed is = \\n\\t',format(np.sum(D_3),'.5E'),\n",
        "      ' (J/kg)/(MBq h)')"
      ],
      "execution_count": null,
      "outputs": [
        {
          "output_type": "stream",
          "text": [
            "mu = 2.271e-01\tcoeff E = 4.058e-02 // 1.022e+00%\tMedium = 100.0 % Air\n",
            "mu = 1.372e-01\tcoeff E = 1.405e-01 // 8.960e+01%\tMedium = 100.0 % Air\n",
            "mu = 1.272e-01\tcoeff E = 1.811e-01 // 6.010e+00%\tMedium = 100.0 % Air\n",
            "mu = 9.889e-02\tcoeff E = 3.664e-01 // 1.194e+00%\tMedium = 100.0 % Air\n",
            "mu = 7.366e-02\tcoeff E = 7.395e-01 // 1.212e+01%\tMedium = 100.0 % Air\n",
            "mu = 7.178e-02\tcoeff E = 7.779e-01 // 4.280e+00%\tMedium = 100.0 % Air\n",
            "\n",
            " Absorbed Dose in Lead Shielding end is = \n",
            "\n",
            "\t E0  =  6.03467E-06  (J/kg)/(MBq h)\n",
            "\t E1  =  1.93405E-04  (J/kg)/(MBq h)\n",
            "\t E2  =  1.56441E-05  (J/kg)/(MBq h)\n",
            "\t E3  =  6.56403E-06  (J/kg)/(MBq h)\n",
            "\t E4  =  1.32620E-04  (J/kg)/(MBq h)\n",
            "\t E5  =  4.90286E-05  (J/kg)/(MBq h)\n",
            "\n",
            " Total radiation received by targed is = \n",
            "\t 4.03296E-04  (J/kg)/(MBq h)\n"
          ],
          "name": "stdout"
        }
      ]
    },
    {
      "cell_type": "markdown",
      "metadata": {
        "id": "__9xMAq1LHvL"
      },
      "source": [
        "###**Equivalent Dose**\n",
        "\n",
        "For practical purpose, we tend to use equivalent dose that derived from absorbed dose and weighting factor. The weighting factor is a constant derived empirically. This constant determine the damage resulted from ionization radiation as a function of radiation type, energy and radiation target consideration."
      ]
    },
    {
      "cell_type": "markdown",
      "metadata": {
        "id": "0QoFQR1iKyym"
      },
      "source": [
        "###**Simplification by assuming the Radiation move through air**\n",
        "\n",
        "For practical purpose, usually we used air medium assumption. By doing so the equation become much simpler and easy to used in practice. But the equation is only applicable for air medium. If somehow the medium change or separated by shielding, then this equation can not be used.\n",
        "\n",
        "###**If ones used Air-Kerma assumption to solve the equation, so this constant will be used:**\n",
        "\n",
        "$\\rho\\ \\ \\ \\ \\ \\ = 1.293\\ kg/m^3$\n",
        "\n",
        "$\\Sigma\\mu_i\\ \\ =3.5e-3\\ m^{-1} \\ |\\  60keV<E<2MeV$\n",
        "\n",
        "$1\\ R\\ \\ = 2.58e-4\\ C/kg$\n",
        "\n",
        "$\\frac{J/kg}{C/Kg} \\approx 34\\ \\ \\ \\ \\ \\ \\ \\ \\ \\ \\ \\ \\ \\ \\ \\ \\ \\ |\\ dry\\ air\\ at\\ 20^{\\circ}C;\\ 101.325kPa$\n",
        "\n",
        "if all the constant can be compiled to a variable called Specific Gamma Constant\n",
        "*The Specific Gamma Constant will Be*\n",
        "\n",
        "$\\Gamma=1.24e-7\\Sigma f_i E_i \\frac{Sv.m^2}{MBq.h}=3.65e-9\\Sigma f_i E_i \\frac{(C/kg).m^2}{MBq.h}\\approx 0.5\\Sigma f_i E_i \\frac{R.m^2}{Ci.h}$\n",
        "\n",
        "$^*$ it is not exactly 0.5 but 0.523 if $2.58e-4\\frac{C/kg}{R}$ factor was used in calculation.\n",
        "\n",
        "$^{**}$ depending on the table data used, mass absorption coefficient may vary.\n",
        "\n",
        "\n",
        "**Lets compare both method see how similar it is for Co60 source.**"
      ]
    },
    {
      "cell_type": "code",
      "metadata": {
        "id": "yrLJxX2Z1jWc"
      },
      "source": [
        "E,f,stdev_E,stdev_f = Gamma_property('Co60',Gammadf)"
      ],
      "execution_count": null,
      "outputs": []
    },
    {
      "cell_type": "markdown",
      "metadata": {
        "id": "Q_rboROA0ltO"
      },
      "source": [
        "####**--Air assumption method**\n",
        "\n",
        "$\\dot{D}=0.5\\Sigma f_i E_i (\\frac{R.m^2}{Ci.h}) \\times 2.58e-4 (\\frac{C/kg}{R}) \\times \\frac{1}{37000} (\\frac{Ci}{MBq})\\times 34 (\\frac{J/kg}{C/kg})$"
      ]
    },
    {
      "cell_type": "code",
      "metadata": {
        "colab": {
          "base_uri": "https://localhost:8080/"
        },
        "id": "vFKOR_SO0tUC",
        "outputId": "e3b25ca7-c5bd-4bcd-b0d9-d46b458be41c"
      },
      "source": [
        "D_t1=np.sum(E*f*0.5*2.58e-4/37000*34)\n",
        "print('Absorbed dose of Co60 is = \\n\\t',format(D_t1,'.5E'),' (J/kg)/(MBq h)')"
      ],
      "execution_count": null,
      "outputs": [
        {
          "output_type": "stream",
          "text": [
            "Absorbed dose of Co60 is = \n",
            "\t 3.13532E-05  (J/kg)/(MBq h)\n"
          ],
          "name": "stdout"
        }
      ]
    },
    {
      "cell_type": "markdown",
      "metadata": {
        "id": "m_dYelXA0ts6"
      },
      "source": [
        "####**--Default calculation**"
      ]
    },
    {
      "cell_type": "code",
      "metadata": {
        "colab": {
          "base_uri": "https://localhost:8080/"
        },
        "id": "Q1bYpDJjzs--",
        "outputId": "96946b4c-8454-4cfc-ae73-a422ffcdfe17"
      },
      "source": [
        "mut_array= Attenuation_coeff(E/1000,f,['Air'],[1],Appendix_D2)[0]\n",
        "mut      = np.sum(mut_array,axis=1)\n",
        "\n",
        "# Finish the equation without Buildup\n",
        "D_t2  = f*E*1.6e-13*1e6*3.6e3*mut*0.1/(np.pi*4)\n",
        "\n",
        "print()\n",
        "for i in range(0,len(D_t2)):\n",
        "  print('\\t E'+str(i),' = ',format(D_t2[i],'.5E'),' (J/kg)/(MBq h)')\n",
        "\n",
        "D_t2=np.sum(D_t2)\n",
        "print('\\nAbsorbed dose of Co60 is = \\n\\t',format(D_t2,'.5E'),\n",
        "      ' (J/kg)/(MBq h)')\n",
        "\n",
        "print('\\nDifference with assumption = \\n\\t',format(np.abs(D_t1-D_t2)/D_t2*100,'.3f'),'%')"
      ],
      "execution_count": null,
      "outputs": [
        {
          "output_type": "stream",
          "text": [
            "mu = 6.527e-02\tcoeff E = 4.058e-02 // 1.022e+00%\tMedium = 100 % Air\n",
            "mu = 2.470e-02\tcoeff E = 1.405e-01 // 8.960e+01%\tMedium = 100 % Air\n",
            "mu = 2.612e-02\tcoeff E = 1.811e-01 // 6.010e+00%\tMedium = 100 % Air\n",
            "mu = 2.923e-02\tcoeff E = 3.664e-01 // 1.194e+00%\tMedium = 100 % Air\n",
            "mu = 2.908e-02\tcoeff E = 7.395e-01 // 1.212e+01%\tMedium = 100 % Air\n",
            "mu = 2.897e-02\tcoeff E = 7.779e-01 // 4.280e+00%\tMedium = 100 % Air\n",
            "\n",
            "\t E0  =  1.24090E-07  (J/kg)/(MBq h)\n",
            "\t E1  =  1.42516E-05  (J/kg)/(MBq h)\n",
            "\t E2  =  1.30303E-06  (J/kg)/(MBq h)\n",
            "\t E3  =  5.86201E-07  (J/kg)/(MBq h)\n",
            "\t E4  =  1.19473E-05  (J/kg)/(MBq h)\n",
            "\t E5  =  4.42063E-06  (J/kg)/(MBq h)\n",
            "\n",
            "Absorbed dose of Co60 is = \n",
            "\t 3.26329E-05  (J/kg)/(MBq h)\n",
            "\n",
            "Difference with assumption = \n",
            "\t 3.921 %\n"
          ],
          "name": "stdout"
        }
      ]
    }
  ]
}